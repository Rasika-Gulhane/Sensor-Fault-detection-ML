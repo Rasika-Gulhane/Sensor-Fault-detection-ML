{
 "cells": [
  {
   "cell_type": "code",
   "execution_count": 1,
   "metadata": {},
   "outputs": [
    {
     "name": "stdout",
     "output_type": "stream",
     "text": [
      "['dill==0.3.5.1', 'dnspython', 'evidently', 'httptools', 'mypy-boto3-s3==1.24.76', 'pip-chill', 'python-dotenv', 'types-s3transfer', 'watchfiles', 'websockets', 'wincertstore', 'neuro-mf', 'fastapi', 'pymongo[srv]==4.2.0', 'pandas', 'numpy', 'certifi', 'PyYAML', 'scikit-learn==1.1.3', 'scipy', 'imblearn==0.0', 'xgboost', 'fastapi', 'uvicorn', '-e .']\n"
     ]
    }
   ],
   "source": [
    "with open('requirements.txt', 'r') as f:\n",
    "    print(f.read().splitlines())"
   ]
  },
  {
   "cell_type": "code",
   "execution_count": 5,
   "metadata": {},
   "outputs": [],
   "source": [
    "from typing import List\n",
    "def get_requiremensts() -> List[str]:\n",
    "\n",
    "    requirement_list:List[str]=[]\n",
    "    with open('requirements.txt', 'r') as f:\n",
    "        requirement_list = (f.read().splitlines())\n",
    "\n",
    "    return requirement_list"
   ]
  },
  {
   "cell_type": "code",
   "execution_count": 6,
   "metadata": {},
   "outputs": [
    {
     "data": {
      "text/plain": [
       "['pymongo==4.2.0', '-e .', '']"
      ]
     },
     "execution_count": 6,
     "metadata": {},
     "output_type": "execute_result"
    }
   ],
   "source": [
    "get_requiremensts()"
   ]
  },
  {
   "cell_type": "code",
   "execution_count": null,
   "metadata": {},
   "outputs": [],
   "source": []
  }
 ],
 "metadata": {
  "kernelspec": {
   "display_name": "Python 3",
   "language": "python",
   "name": "python3"
  },
  "language_info": {
   "codemirror_mode": {
    "name": "ipython",
    "version": 3
   },
   "file_extension": ".py",
   "mimetype": "text/x-python",
   "name": "python",
   "nbconvert_exporter": "python",
   "pygments_lexer": "ipython3",
   "version": "3.8.18"
  }
 },
 "nbformat": 4,
 "nbformat_minor": 2
}
